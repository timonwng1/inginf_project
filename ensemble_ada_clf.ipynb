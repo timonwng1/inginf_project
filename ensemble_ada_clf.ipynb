{
 "cells": [
  {
   "cell_type": "code",
   "execution_count": 49,
   "id": "283ea3f3-e74f-4a6b-a87e-73f961e63642",
   "metadata": {},
   "outputs": [],
   "source": [
    "# Load libraries\n",
    "import pandas as pd\n",
    "\n",
    "\n",
    "from sklearn.model_selection import train_test_split \n",
    "from sklearn import metrics \n",
    "\n",
    "from sklearn.ensemble import AdaBoostClassifier\n",
    "\n",
    "\n",
    "from matplotlib import pyplot as plt\n",
    "from sklearn import tree"
   ]
  },
  {
   "cell_type": "code",
   "execution_count": 50,
   "id": "ddf68be6-2d7a-4fda-99d3-986b3c2a927f",
   "metadata": {},
   "outputs": [],
   "source": [
    "from keras.datasets import mnist"
   ]
  },
  {
   "cell_type": "code",
   "execution_count": 51,
   "id": "41fd7318-af34-4434-ac94-a1da4480ae22",
   "metadata": {},
   "outputs": [],
   "source": [
    "(X_train, y_train), (X_test, y_test) = mnist.load_data()"
   ]
  },
  {
   "cell_type": "code",
   "execution_count": 52,
   "id": "f76715f7-042a-4e61-8842-043fd415e63b",
   "metadata": {},
   "outputs": [
    {
     "name": "stdout",
     "output_type": "stream",
     "text": [
      "X_train: (60000, 28, 28)\n",
      "Y_train: (60000,)\n",
      "X_test:  (10000, 28, 28)\n",
      "Y_test:  (10000,)\n"
     ]
    }
   ],
   "source": [
    "#Anzeigen, wie die Daten vorliegen (Trainings- und Testdaten mit Pixelnanzahl)\n",
    "print('X_train: ' + str(X_train.shape))\n",
    "print('Y_train: ' + str(y_train.shape))\n",
    "print('X_test:  '  + str(X_test.shape))\n",
    "print('Y_test:  '  + str(y_test.shape))"
   ]
  },
  {
   "cell_type": "code",
   "execution_count": 53,
   "id": "be587924-593f-4921-976f-12586bce4087",
   "metadata": {},
   "outputs": [],
   "source": [
    "# Bilder in Vektoren umformen\n",
    "X_train = X_train.reshape(X_train.shape[0], X_train.shape[1]*X_train.shape[2]) \n",
    "X_test = X_test.reshape(X_test.shape[0], X_test.shape[1]*X_test.shape[2]) "
   ]
  },
  {
   "cell_type": "code",
   "execution_count": 54,
   "id": "537521c2-b03b-40b0-a450-ec3ae6b29675",
   "metadata": {},
   "outputs": [
    {
     "name": "stdout",
     "output_type": "stream",
     "text": [
      "Number of training examples : 60000 and each image is of shape (784)\n",
      "Number of training examples : 10000 and each image is of shape (784)\n"
     ]
    }
   ],
   "source": [
    "# Überprüfung ob Umformung funktioniert hat\n",
    "print(\"Number of training examples :\", X_train.shape[0], \"and each image is of shape (%d)\"%(X_train.shape[1]))\n",
    "print(\"Number of training examples :\", X_test.shape[0], \"and each image is of shape (%d)\"%(X_test.shape[1]))"
   ]
  },
  {
   "cell_type": "code",
   "execution_count": 55,
   "id": "77eebd6d-08e9-46ed-b12a-5a01f4fdfa5f",
   "metadata": {},
   "outputs": [],
   "source": [
    "#Normalisierung der Daten\n",
    "X_train = X_train/255\n",
    "X_test = X_test/255"
   ]
  },
  {
   "cell_type": "code",
   "execution_count": 63,
   "id": "ec2cf7e7-37fa-4ec1-b21b-499662ceaf2c",
   "metadata": {},
   "outputs": [],
   "source": [
    "#AdaBoost Classifier"
   ]
  },
  {
   "cell_type": "code",
   "execution_count": 79,
   "id": "a459c923-bc3a-4ba6-a05b-13507c26d618",
   "metadata": {
    "scrolled": true
   },
   "outputs": [],
   "source": [
    "ada = AdaBoostClassifier(n_estimators=50, algorithm=\"SAMME\")"
   ]
  },
  {
   "cell_type": "code",
   "execution_count": 80,
   "id": "1dd9ee3b-5af9-4f3d-a70e-979e14e0405b",
   "metadata": {},
   "outputs": [],
   "source": [
    "ada = ada.fit(X_train,y_train)"
   ]
  },
  {
   "cell_type": "code",
   "execution_count": 81,
   "id": "92d1f0e5-c2b7-49a6-bc66-acc3834f7c12",
   "metadata": {},
   "outputs": [],
   "source": [
    "y_pred2 = ada.predict(X_test)"
   ]
  },
  {
   "cell_type": "code",
   "execution_count": 82,
   "id": "9e6b1f58-98c7-4cdf-9741-736c4b9df2a7",
   "metadata": {},
   "outputs": [
    {
     "name": "stdout",
     "output_type": "stream",
     "text": [
      "Accuracy: 0.5756\n"
     ]
    }
   ],
   "source": [
    "print(\"Accuracy:\",metrics.accuracy_score(y_test, y_pred2))"
   ]
  },
  {
   "cell_type": "code",
   "execution_count": 83,
   "id": "d143aa5b-871b-438a-aef0-3a64414278fc",
   "metadata": {},
   "outputs": [
    {
     "data": {
      "text/plain": [
       "array([[584,   2,  22,   7,  12, 285,  15,   7,  45,   1],\n",
       "       [  0, 368, 248, 446,   1,   6,   3,   8,  53,   2],\n",
       "       [ 10,  12, 696,  38,  19,  12,  79,  22, 128,  16],\n",
       "       [ 10,   5,  38, 661,   5, 107,  13,  16, 143,  12],\n",
       "       [  3,   0,  14,  23, 499,  13,   8,  67,  29, 326],\n",
       "       [ 12,   5,  24, 145,  65, 449,  16,  15, 152,   9],\n",
       "       [ 17,   3,  62,  21,  68,  40, 675,   6,  53,  13],\n",
       "       [  4,   4,  75,  22,  57,  14,   1, 615,  24, 212],\n",
       "       [  5,   6,  38,  63,   9,  35,  10,  23, 731,  54],\n",
       "       [  4,   2,  16,  66, 269,  12,   5, 116,  41, 478]])"
      ]
     },
     "execution_count": 83,
     "metadata": {},
     "output_type": "execute_result"
    }
   ],
   "source": [
    "from sklearn.metrics import confusion_matrix\n",
    "\n",
    "confusion_matrix(y_test, y_pred2)"
   ]
  },
  {
   "cell_type": "code",
   "execution_count": 76,
   "id": "a5ad8e2a-5c5b-4687-8b37-ce439ae76cb1",
   "metadata": {},
   "outputs": [
    {
     "name": "stdout",
     "output_type": "stream",
     "text": [
      "Accuracy Desicion Tree: 0.8714\n",
      "Adaptive Boost: 0.3377\n",
      "Extra Tree Clasifier 0.9514\n"
     ]
    }
   ],
   "source": [
    "#Vergleich\n",
    "\n",
    "print(\"Adaptive Boost:\", metrics.accuracy_score(y_test, y_pred2))"
   ]
  },
  {
   "cell_type": "code",
   "execution_count": null,
   "id": "5f0e9831-e8ae-437b-8508-5242903baac3",
   "metadata": {},
   "outputs": [],
   "source": []
  }
 ],
 "metadata": {
  "kernelspec": {
   "display_name": "Python 3 (ipykernel)",
   "language": "python",
   "name": "python3"
  },
  "language_info": {
   "codemirror_mode": {
    "name": "ipython",
    "version": 3
   },
   "file_extension": ".py",
   "mimetype": "text/x-python",
   "name": "python",
   "nbconvert_exporter": "python",
   "pygments_lexer": "ipython3",
   "version": "3.11.7"
  }
 },
 "nbformat": 4,
 "nbformat_minor": 5
}
