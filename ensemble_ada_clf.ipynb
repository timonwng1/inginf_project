{
 "cells": [
  {
   "cell_type": "code",
   "execution_count": 11,
   "id": "283ea3f3-e74f-4a6b-a87e-73f961e63642",
   "metadata": {},
   "outputs": [],
   "source": [
    "# Load libraries\n",
    "import pandas as pd\n",
    "\n",
    "from sklearn.tree import DecisionTreeClassifier \n",
    "from sklearn.model_selection import train_test_split \n",
    "from sklearn import metrics \n",
    "\n",
    "from sklearn.ensemble import AdaBoostClassifier\n",
    "\n",
    "from matplotlib import pyplot as plt\n",
    "from sklearn import tree"
   ]
  },
  {
   "cell_type": "code",
   "execution_count": 12,
   "id": "ddf68be6-2d7a-4fda-99d3-986b3c2a927f",
   "metadata": {},
   "outputs": [],
   "source": [
    "from keras.datasets import mnist"
   ]
  },
  {
   "cell_type": "code",
   "execution_count": 13,
   "id": "41fd7318-af34-4434-ac94-a1da4480ae22",
   "metadata": {},
   "outputs": [],
   "source": [
    "(X_train, y_train), (X_test, y_test) = mnist.load_data()"
   ]
  },
  {
   "cell_type": "code",
   "execution_count": 14,
   "id": "f76715f7-042a-4e61-8842-043fd415e63b",
   "metadata": {},
   "outputs": [
    {
     "name": "stdout",
     "output_type": "stream",
     "text": [
      "X_train: (60000, 28, 28)\n",
      "Y_train: (60000,)\n",
      "X_test:  (10000, 28, 28)\n",
      "Y_test:  (10000,)\n"
     ]
    }
   ],
   "source": [
    "#Anzeigen, wie die Daten vorliegen (Trainings- und Testdaten mit Pixelnanzahl)\n",
    "print('X_train: ' + str(X_train.shape))\n",
    "print('Y_train: ' + str(y_train.shape))\n",
    "print('X_test:  '  + str(X_test.shape))\n",
    "print('Y_test:  '  + str(y_test.shape))"
   ]
  },
  {
   "cell_type": "code",
   "execution_count": 15,
   "id": "be587924-593f-4921-976f-12586bce4087",
   "metadata": {},
   "outputs": [],
   "source": [
    "# Bilder in Vektoren umformen\n",
    "X_train = X_train.reshape(X_train.shape[0], X_train.shape[1]*X_train.shape[2]) \n",
    "X_test = X_test.reshape(X_test.shape[0], X_test.shape[1]*X_test.shape[2]) "
   ]
  },
  {
   "cell_type": "code",
   "execution_count": 16,
   "id": "537521c2-b03b-40b0-a450-ec3ae6b29675",
   "metadata": {},
   "outputs": [
    {
     "name": "stdout",
     "output_type": "stream",
     "text": [
      "Number of training examples : 60000 and each image is of shape (784)\n",
      "Number of training examples : 10000 and each image is of shape (784)\n"
     ]
    }
   ],
   "source": [
    "# Überprüfung ob Umformung funktioniert hat\n",
    "print(\"Number of training examples :\", X_train.shape[0], \"and each image is of shape (%d)\"%(X_train.shape[1]))\n",
    "print(\"Number of training examples :\", X_test.shape[0], \"and each image is of shape (%d)\"%(X_test.shape[1]))"
   ]
  },
  {
   "cell_type": "code",
   "execution_count": 49,
   "id": "77eebd6d-08e9-46ed-b12a-5a01f4fdfa5f",
   "metadata": {},
   "outputs": [],
   "source": [
    "#Normalisierung der Daten\n",
    "X_train = X_train/255\n",
    "X_test = X_test/255"
   ]
  },
  {
   "cell_type": "code",
   "execution_count": 50,
   "id": "e7660840-3d26-43e9-9857-4ff85e1a26f0",
   "metadata": {},
   "outputs": [],
   "source": [
    "clf = DecisionTreeClassifier(criterion=\"entropy\", max_depth=10)\n",
    "clf = clf.fit(X_train,y_train)"
   ]
  },
  {
   "cell_type": "code",
   "execution_count": 51,
   "id": "d0b2211d-44b1-456b-bbc0-7ed4000ab83a",
   "metadata": {},
   "outputs": [],
   "source": [
    "y_pred = clf.predict(X_test)"
   ]
  },
  {
   "cell_type": "code",
   "execution_count": 52,
   "id": "b29c938d-2629-4273-92c4-6852f9720d3d",
   "metadata": {},
   "outputs": [
    {
     "name": "stdout",
     "output_type": "stream",
     "text": [
      "Accuracy: 0.8716\n"
     ]
    }
   ],
   "source": [
    "print(\"Accuracy:\",metrics.accuracy_score(y_test, y_pred))"
   ]
  },
  {
   "cell_type": "code",
   "execution_count": 53,
   "id": "732797fb-5c31-43a7-b41b-a89b64eadfaa",
   "metadata": {},
   "outputs": [],
   "source": [
    "# Datenvisualisierung?"
   ]
  },
  {
   "cell_type": "code",
   "execution_count": 54,
   "id": "cd0d9dff-a596-4a99-8314-82a6a23e63dd",
   "metadata": {
    "scrolled": true
   },
   "outputs": [
    {
     "data": {
      "text/plain": [
       "array([[ 918,    1,    9,    3,    6,   15,   11,    4,   10,    3],\n",
       "       [   0, 1102,    5,    6,    1,    9,    2,    2,    8,    0],\n",
       "       [  13,   12,  882,   19,   12,   13,   23,   19,   34,    5],\n",
       "       [   6,   14,   26,  842,    2,   57,    4,   12,   26,   21],\n",
       "       [   8,    4,   11,    9,  847,    7,   17,    5,   19,   55],\n",
       "       [  17,    7,    2,   58,    8,  738,   24,    1,   19,   18],\n",
       "       [  24,    5,   14,    4,   29,   25,  838,    4,   13,    2],\n",
       "       [   2,   12,   50,   20,   16,    7,    0,  881,    7,   33],\n",
       "       [   9,    4,   25,   31,   19,   23,   15,    5,  806,   37],\n",
       "       [  13,    4,    9,   27,   33,   15,    3,   15,   28,  862]])"
      ]
     },
     "execution_count": 54,
     "metadata": {},
     "output_type": "execute_result"
    }
   ],
   "source": [
    "from sklearn.metrics import confusion_matrix\n",
    "\n",
    "confusion_matrix(y_test, y_pred)"
   ]
  },
  {
   "cell_type": "code",
   "execution_count": 55,
   "id": "a459c923-bc3a-4ba6-a05b-13507c26d618",
   "metadata": {
    "scrolled": true
   },
   "outputs": [],
   "source": [
    "ada = AdaBoostClassifier(n_estimators=100, algorithm=\"SAMME\",)"
   ]
  },
  {
   "cell_type": "code",
   "execution_count": 56,
   "id": "1dd9ee3b-5af9-4f3d-a70e-979e14e0405b",
   "metadata": {},
   "outputs": [],
   "source": [
    "ada = ada.fit(X_train,y_train)"
   ]
  },
  {
   "cell_type": "code",
   "execution_count": 60,
   "id": "92d1f0e5-c2b7-49a6-bc66-acc3834f7c12",
   "metadata": {},
   "outputs": [],
   "source": [
    "y2_pred = ada.predict(X_test)"
   ]
  },
  {
   "cell_type": "code",
   "execution_count": 61,
   "id": "e34d11a3-6c26-40b8-949a-0a21237ec3cf",
   "metadata": {},
   "outputs": [
    {
     "name": "stdout",
     "output_type": "stream",
     "text": [
      "Accuracy: 0.7028\n"
     ]
    }
   ],
   "source": [
    "print(\"Accuracy:\",metrics.accuracy_score(y_test, y2_pred))"
   ]
  },
  {
   "cell_type": "code",
   "execution_count": 63,
   "id": "d143aa5b-871b-438a-aef0-3a64414278fc",
   "metadata": {},
   "outputs": [
    {
     "data": {
      "text/plain": [
       "array([[643,   2,  11,   1,   0, 305,   6,   3,   7,   2],\n",
       "       [  0, 983,  73,  26,   1,   1,   4,   2,  45,   0],\n",
       "       [ 13,  35, 748,  20,  18,  16,  99,  20,  53,  10],\n",
       "       [ 24,   9,  44, 649,   3,  93,   9,  15, 143,  21],\n",
       "       [  1,   1,  14,  15, 743,   4,  14,  22,  36, 132],\n",
       "       [ 28,  23,  12, 150,  23, 458,  21,  13, 139,  25],\n",
       "       [ 26,   5,  42,   7,  41,  34, 758,   1,  31,  13],\n",
       "       [  6,  20,  55,  12,  35,  12,   1, 749,  23, 115],\n",
       "       [  8,  20,  25,  39,  12,  34,  18,   8, 763,  47],\n",
       "       [  7,   6,   7,  47, 277,  14,   1,  62,  54, 534]])"
      ]
     },
     "execution_count": 63,
     "metadata": {},
     "output_type": "execute_result"
    }
   ],
   "source": [
    "from sklearn.metrics import confusion_matrix\n",
    "\n",
    "confusion_matrix(y_test, y2_pred)"
   ]
  },
  {
   "cell_type": "code",
   "execution_count": 71,
   "id": "a5ad8e2a-5c5b-4687-8b37-ce439ae76cb1",
   "metadata": {},
   "outputs": [
    {
     "name": "stdout",
     "output_type": "stream",
     "text": [
      "Accuracy Desicion Tree: 0.8716\n",
      "Adaptive Boost: 0.7028\n",
      "Verbesserung durch Adaptive Boosting: -16.880000000000006 %\n"
     ]
    }
   ],
   "source": [
    "#Vergleich\n",
    "\n",
    "print(\"Accuracy Desicion Tree:\", metrics.accuracy_score(y_test, y_pred))\n",
    "print(\"Adaptive Boost:\", metrics.accuracy_score(y_test, y2_pred))\n",
    "\n",
    "diff = metrics.accuracy_score(y_test, y2_pred) - metrics.accuracy_score(y_test, y_pred)\n",
    "print(\"Verbesserung durch Adaptive Boosting:\", diff*100, \"%\")"
   ]
  },
  {
   "cell_type": "code",
   "execution_count": null,
   "id": "e7c615a4-95d9-4a29-91d0-ebebd64401f3",
   "metadata": {},
   "outputs": [],
   "source": []
  }
 ],
 "metadata": {
  "kernelspec": {
   "display_name": "Python 3 (ipykernel)",
   "language": "python",
   "name": "python3"
  },
  "language_info": {
   "codemirror_mode": {
    "name": "ipython",
    "version": 3
   },
   "file_extension": ".py",
   "mimetype": "text/x-python",
   "name": "python",
   "nbconvert_exporter": "python",
   "pygments_lexer": "ipython3",
   "version": "3.11.7"
  }
 },
 "nbformat": 4,
 "nbformat_minor": 5
}
