{
 "cells": [
  {
   "cell_type": "code",
   "execution_count": 5,
   "id": "273f4041-9c45-47b3-851e-2e15d6fc14c6",
   "metadata": {
    "scrolled": true
   },
   "outputs": [],
   "source": [
    "import numpy as np\n",
    "import cv2"
   ]
  },
  {
   "cell_type": "code",
   "execution_count": 6,
   "id": "224069c5-1b5c-41ff-9882-4696f5f869f3",
   "metadata": {},
   "outputs": [],
   "source": [
    "def resize_to_28x28(img):\n",
    "    img_h, img_w = img.shape\n",
    "    dim_size_max = max(img.shape)\n",
    "\n",
    "    if dim_size_max == img_w:\n",
    "        im_h = (26 * img_h) // img_w\n",
    "        if im_h <= 0 or img_w <= 0:\n",
    "            print(\"Invalid Image Dimention: \", im_h, img_w, img_h)\n",
    "        tmp_img = cv2.resize(img, (26,im_h),0,0,cv2.INTER_NEAREST)\n",
    "    else:\n",
    "        im_w = (26 * img_w) // img_h\n",
    "        if im_w <= 0 or img_h <= 0:\n",
    "            print(\"Invalid Image Dimention: \", im_w, img_w, img_h)\n",
    "        tmp_img = cv2.resize(img, (im_w, 26),0,0,cv2.INTER_NEAREST)\n",
    "\n",
    "    out_img = np.zeros((28, 28), dtype=np.ubyte)\n",
    "\n",
    "    nb_h, nb_w = out_img.shape\n",
    "    na_h, na_w = tmp_img.shape\n",
    "    y_min = (nb_w) // 2 - (na_w // 2)\n",
    "    y_max = y_min + na_w\n",
    "    x_min = (nb_h) // 2 - (na_h // 2)\n",
    "    x_max = x_min + na_h\n",
    "\n",
    "    out_img[x_min:x_max, y_min:y_max] = tmp_img\n",
    "\n",
    "    return out_img\n",
    "\n"
   ]
  },
  {
   "cell_type": "code",
   "execution_count": 7,
   "id": "a377c6cf-3d8e-4794-bbc7-2eaca83c487e",
   "metadata": {},
   "outputs": [],
   "source": [
    "def run_inference(img):\n",
    "    tsr_img = resize_to_28x28(img)\n",
    "    input_data = np.copy(tsr_img).reshape(1,28,28,1)\n",
    "\n",
    "    if floating_model:\n",
    "        input_data = (np.float32(input_data) - input_mean) / input_std\n",
    "\n",
    "    # Instantiate tensorflow interpreter and run inference on input_data\n"
   ]
  },
  {
   "cell_type": "code",
   "execution_count": null,
   "id": "16bef549-f77f-4a23-b3f1-97cffd463cf3",
   "metadata": {},
   "outputs": [],
   "source": []
  }
 ],
 "metadata": {
  "kernelspec": {
   "display_name": "Python 3 (ipykernel)",
   "language": "python",
   "name": "python3"
  },
  "language_info": {
   "codemirror_mode": {
    "name": "ipython",
    "version": 3
   },
   "file_extension": ".py",
   "mimetype": "text/x-python",
   "name": "python",
   "nbconvert_exporter": "python",
   "pygments_lexer": "ipython3",
   "version": "3.11.7"
  }
 },
 "nbformat": 4,
 "nbformat_minor": 5
}
