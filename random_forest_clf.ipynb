{
 "cells": [
  {
   "cell_type": "code",
   "execution_count": 1,
   "id": "283ea3f3-e74f-4a6b-a87e-73f961e63642",
   "metadata": {},
   "outputs": [],
   "source": [
    "# Load libraries\n",
    "import pandas as pd\n",
    "\n",
    "from sklearn.ensemble import RandomForestClassifier\n",
    "\n",
    "from sklearn.model_selection import train_test_split \n",
    "from sklearn import metrics \n",
    "\n",
    "from matplotlib import pyplot as plt\n",
    "from sklearn import tree"
   ]
  },
  {
   "cell_type": "code",
   "execution_count": 2,
   "id": "ddf68be6-2d7a-4fda-99d3-986b3c2a927f",
   "metadata": {},
   "outputs": [],
   "source": [
    "from keras.datasets import mnist"
   ]
  },
  {
   "cell_type": "code",
   "execution_count": 3,
   "id": "41fd7318-af34-4434-ac94-a1da4480ae22",
   "metadata": {},
   "outputs": [],
   "source": [
    "(X_train, y_train), (X_test, y_test) = mnist.load_data()"
   ]
  },
  {
   "cell_type": "code",
   "execution_count": 4,
   "id": "f76715f7-042a-4e61-8842-043fd415e63b",
   "metadata": {},
   "outputs": [
    {
     "name": "stdout",
     "output_type": "stream",
     "text": [
      "X_train: (60000, 28, 28)\n",
      "Y_train: (60000,)\n",
      "X_test:  (10000, 28, 28)\n",
      "Y_test:  (10000,)\n"
     ]
    }
   ],
   "source": [
    "#Anzeigen, wie die Daten vorliegen (Trainings- und Testdaten mit Pixelnanzahl)\n",
    "print('X_train: ' + str(X_train.shape))\n",
    "print('Y_train: ' + str(y_train.shape))\n",
    "print('X_test:  '  + str(X_test.shape))\n",
    "print('Y_test:  '  + str(y_test.shape))"
   ]
  },
  {
   "cell_type": "code",
   "execution_count": 5,
   "id": "be587924-593f-4921-976f-12586bce4087",
   "metadata": {},
   "outputs": [],
   "source": [
    "# Bilder in Vektoren umformen\n",
    "X_train = X_train.reshape(X_train.shape[0], X_train.shape[1]*X_train.shape[2]) \n",
    "X_test = X_test.reshape(X_test.shape[0], X_test.shape[1]*X_test.shape[2]) "
   ]
  },
  {
   "cell_type": "code",
   "execution_count": 6,
   "id": "537521c2-b03b-40b0-a450-ec3ae6b29675",
   "metadata": {},
   "outputs": [
    {
     "name": "stdout",
     "output_type": "stream",
     "text": [
      "Number of training examples : 60000 and each image is of shape (784)\n",
      "Number of training examples : 10000 and each image is of shape (784)\n"
     ]
    }
   ],
   "source": [
    "# Überprüfung ob Umformung funktioniert hat\n",
    "print(\"Number of training examples :\", X_train.shape[0], \"and each image is of shape (%d)\"%(X_train.shape[1]))\n",
    "print(\"Number of training examples :\", X_test.shape[0], \"and each image is of shape (%d)\"%(X_test.shape[1]))"
   ]
  },
  {
   "cell_type": "code",
   "execution_count": 7,
   "id": "77eebd6d-08e9-46ed-b12a-5a01f4fdfa5f",
   "metadata": {},
   "outputs": [],
   "source": [
    "#Normalisierung der Daten\n",
    "X_train = X_train/255\n",
    "X_test = X_test/255"
   ]
  },
  {
   "cell_type": "code",
   "execution_count": 18,
   "id": "e7660840-3d26-43e9-9857-4ff85e1a26f0",
   "metadata": {},
   "outputs": [],
   "source": [
    "clf = RandomForestClassifier(n_estimators=100)\n",
    "clf = clf.fit(X_train, y_train)"
   ]
  },
  {
   "cell_type": "code",
   "execution_count": 19,
   "id": "d0b2211d-44b1-456b-bbc0-7ed4000ab83a",
   "metadata": {},
   "outputs": [],
   "source": [
    "y_pred = clf.predict(X_test)"
   ]
  },
  {
   "cell_type": "code",
   "execution_count": 20,
   "id": "b29c938d-2629-4273-92c4-6852f9720d3d",
   "metadata": {},
   "outputs": [
    {
     "name": "stdout",
     "output_type": "stream",
     "text": [
      "Accuracy: 0.9681\n"
     ]
    }
   ],
   "source": [
    "print(\"Accuracy:\",metrics.accuracy_score(y_test, y_pred))"
   ]
  },
  {
   "cell_type": "code",
   "execution_count": 21,
   "id": "732797fb-5c31-43a7-b41b-a89b64eadfaa",
   "metadata": {},
   "outputs": [],
   "source": [
    "# Datenvisualisierung?"
   ]
  },
  {
   "cell_type": "code",
   "execution_count": 22,
   "id": "cd0d9dff-a596-4a99-8314-82a6a23e63dd",
   "metadata": {
    "scrolled": true
   },
   "outputs": [
    {
     "data": {
      "text/plain": [
       "array([[ 972,    1,    1,    0,    0,    1,    2,    1,    2,    0],\n",
       "       [   0, 1122,    3,    2,    0,    1,    4,    0,    2,    1],\n",
       "       [   6,    0,  997,    7,    4,    0,    3,    8,    7,    0],\n",
       "       [   0,    0,   12,  971,    0,    6,    0,    9,    8,    4],\n",
       "       [   1,    0,    3,    0,  953,    0,    5,    1,    2,   17],\n",
       "       [   4,    0,    0,   14,    3,  854,    8,    1,    4,    4],\n",
       "       [   5,    3,    0,    0,    3,    3,  941,    0,    3,    0],\n",
       "       [   1,    1,   18,    4,    2,    0,    0,  989,    2,   11],\n",
       "       [   3,    0,    6,    8,    7,    5,    4,    4,  927,   10],\n",
       "       [   4,    5,    3,    9,   16,    5,    1,    5,    6,  955]])"
      ]
     },
     "execution_count": 22,
     "metadata": {},
     "output_type": "execute_result"
    }
   ],
   "source": [
    "from sklearn.metrics import confusion_matrix\n",
    "\n",
    "confusion_matrix(y_test, y_pred)"
   ]
  },
  {
   "cell_type": "code",
   "execution_count": null,
   "id": "a459c923-bc3a-4ba6-a05b-13507c26d618",
   "metadata": {
    "jupyter": {
     "source_hidden": true
    }
   },
   "outputs": [],
   "source": []
  }
 ],
 "metadata": {
  "kernelspec": {
   "display_name": "Python 3 (ipykernel)",
   "language": "python",
   "name": "python3"
  },
  "language_info": {
   "codemirror_mode": {
    "name": "ipython",
    "version": 3
   },
   "file_extension": ".py",
   "mimetype": "text/x-python",
   "name": "python",
   "nbconvert_exporter": "python",
   "pygments_lexer": "ipython3",
   "version": "3.11.7"
  }
 },
 "nbformat": 4,
 "nbformat_minor": 5
}
