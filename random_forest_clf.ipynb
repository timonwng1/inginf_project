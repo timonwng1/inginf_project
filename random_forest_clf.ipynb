{
 "cells": [
  {
   "cell_type": "code",
   "execution_count": 34,
   "id": "283ea3f3-e74f-4a6b-a87e-73f961e63642",
   "metadata": {},
   "outputs": [],
   "source": [
    "# Load libraries\n",
    "import pandas as pd\n",
    "\n",
    "from sklearn.ensemble import RandomForestClassifier\n",
    "from sklearn.ensemble import ExtraTreesClassifier\n",
    "\n",
    "from sklearn.model_selection import train_test_split \n",
    "from sklearn import metrics \n",
    "\n",
    "from matplotlib import pyplot as plt\n",
    "from sklearn import tree"
   ]
  },
  {
   "cell_type": "code",
   "execution_count": 35,
   "id": "ddf68be6-2d7a-4fda-99d3-986b3c2a927f",
   "metadata": {},
   "outputs": [],
   "source": [
    "from keras.datasets import mnist"
   ]
  },
  {
   "cell_type": "code",
   "execution_count": 36,
   "id": "41fd7318-af34-4434-ac94-a1da4480ae22",
   "metadata": {},
   "outputs": [],
   "source": [
    "(X_train, y_train), (X_test, y_test) = mnist.load_data()"
   ]
  },
  {
   "cell_type": "code",
   "execution_count": 37,
   "id": "f76715f7-042a-4e61-8842-043fd415e63b",
   "metadata": {},
   "outputs": [
    {
     "name": "stdout",
     "output_type": "stream",
     "text": [
      "X_train: (60000, 28, 28)\n",
      "Y_train: (60000,)\n",
      "X_test:  (10000, 28, 28)\n",
      "Y_test:  (10000,)\n"
     ]
    }
   ],
   "source": [
    "#Anzeigen, wie die Daten vorliegen (Trainings- und Testdaten mit Pixelnanzahl)\n",
    "print('X_train: ' + str(X_train.shape))\n",
    "print('Y_train: ' + str(y_train.shape))\n",
    "print('X_test:  '  + str(X_test.shape))\n",
    "print('Y_test:  '  + str(y_test.shape))"
   ]
  },
  {
   "cell_type": "code",
   "execution_count": 38,
   "id": "be587924-593f-4921-976f-12586bce4087",
   "metadata": {},
   "outputs": [],
   "source": [
    "# Bilder in Vektoren umformen\n",
    "X_train = X_train.reshape(X_train.shape[0], X_train.shape[1]*X_train.shape[2]) \n",
    "X_test = X_test.reshape(X_test.shape[0], X_test.shape[1]*X_test.shape[2]) "
   ]
  },
  {
   "cell_type": "code",
   "execution_count": 39,
   "id": "537521c2-b03b-40b0-a450-ec3ae6b29675",
   "metadata": {},
   "outputs": [
    {
     "name": "stdout",
     "output_type": "stream",
     "text": [
      "Number of training examples : 60000 and each image is of shape (784)\n",
      "Number of training examples : 10000 and each image is of shape (784)\n"
     ]
    }
   ],
   "source": [
    "# Überprüfung ob Umformung funktioniert hat\n",
    "print(\"Number of training examples :\", X_train.shape[0], \"and each image is of shape (%d)\"%(X_train.shape[1]))\n",
    "print(\"Number of training examples :\", X_test.shape[0], \"and each image is of shape (%d)\"%(X_test.shape[1]))"
   ]
  },
  {
   "cell_type": "code",
   "execution_count": 40,
   "id": "77eebd6d-08e9-46ed-b12a-5a01f4fdfa5f",
   "metadata": {},
   "outputs": [],
   "source": [
    "#Normalisierung der Daten\n",
    "X_train = X_train/255\n",
    "X_test = X_test/255"
   ]
  },
  {
   "cell_type": "code",
   "execution_count": 41,
   "id": "e7660840-3d26-43e9-9857-4ff85e1a26f0",
   "metadata": {},
   "outputs": [],
   "source": [
    "clf = RandomForestClassifier(n_estimators=15)\n",
    "clf = clf.fit(X_train, y_train)"
   ]
  },
  {
   "cell_type": "code",
   "execution_count": 42,
   "id": "d0b2211d-44b1-456b-bbc0-7ed4000ab83a",
   "metadata": {},
   "outputs": [],
   "source": [
    "y_pred = clf.predict(X_test)"
   ]
  },
  {
   "cell_type": "code",
   "execution_count": 43,
   "id": "b29c938d-2629-4273-92c4-6852f9720d3d",
   "metadata": {},
   "outputs": [
    {
     "name": "stdout",
     "output_type": "stream",
     "text": [
      "Accuracy: 0.9562\n"
     ]
    }
   ],
   "source": [
    "print(\"Accuracy:\",metrics.accuracy_score(y_test, y_pred))"
   ]
  },
  {
   "cell_type": "code",
   "execution_count": 44,
   "id": "732797fb-5c31-43a7-b41b-a89b64eadfaa",
   "metadata": {},
   "outputs": [],
   "source": [
    "# Datenvisualisierung?"
   ]
  },
  {
   "cell_type": "code",
   "execution_count": 45,
   "id": "cd0d9dff-a596-4a99-8314-82a6a23e63dd",
   "metadata": {},
   "outputs": [
    {
     "data": {
      "text/plain": [
       "array([[ 967,    0,    1,    1,    0,    4,    5,    1,    1,    0],\n",
       "       [   0, 1125,    2,    3,    1,    2,    1,    0,    1,    0],\n",
       "       [  10,    2,  982,    9,    3,    1,    7,   11,    6,    1],\n",
       "       [   2,    1,   11,  957,    0,   15,    0,   12,    9,    3],\n",
       "       [   4,    0,    2,    1,  951,    0,    3,    0,    3,   18],\n",
       "       [   6,    1,    2,   20,    3,  842,    5,    3,    5,    5],\n",
       "       [   9,    1,    6,    0,    8,    7,  925,    0,    2,    0],\n",
       "       [   1,    6,   25,    6,    4,    0,    0,  973,    4,    9],\n",
       "       [  10,    1,   10,   11,    8,    9,    5,    7,  904,    9],\n",
       "       [   6,    6,    2,   11,   22,   11,    2,    4,    9,  936]])"
      ]
     },
     "execution_count": 45,
     "metadata": {},
     "output_type": "execute_result"
    }
   ],
   "source": [
    "from sklearn.metrics import confusion_matrix\n",
    "\n",
    "confusion_matrix(y_test, y_pred)"
   ]
  },
  {
   "cell_type": "code",
   "execution_count": 47,
   "id": "437c6b17-986b-47a4-9671-96edf2c201d6",
   "metadata": {},
   "outputs": [],
   "source": [
    "ex_clf = ExtraTreesClassifier(n_estimators=10, max_depth=None, min_samples_split=2, random_state=0)"
   ]
  },
  {
   "cell_type": "code",
   "execution_count": 48,
   "id": "c365d95c-cad5-4a20-8760-dbd53b853309",
   "metadata": {},
   "outputs": [],
   "source": [
    "ex_clf = ex_clf.fit(X_train,y_train)"
   ]
  },
  {
   "cell_type": "code",
   "execution_count": 49,
   "id": "a284a835-089d-4a21-97bf-2bbf6d62a0e2",
   "metadata": {},
   "outputs": [],
   "source": [
    "y_pred3 = ex_clf.predict(X_test)"
   ]
  },
  {
   "cell_type": "code",
   "execution_count": 50,
   "id": "a459c923-bc3a-4ba6-a05b-13507c26d618",
   "metadata": {},
   "outputs": [
    {
     "name": "stdout",
     "output_type": "stream",
     "text": [
      "Accuracy: 0.9514\n"
     ]
    }
   ],
   "source": [
    "print(\"Accuracy:\",metrics.accuracy_score(y_test, y_pred3))"
   ]
  },
  {
   "cell_type": "code",
   "execution_count": 51,
   "id": "21d24e8e-8de9-4bd3-a792-c5caf85f209d",
   "metadata": {},
   "outputs": [
    {
     "name": "stdout",
     "output_type": "stream",
     "text": [
      "Accuracy Desicion Tree: 0.9562\n",
      "Extra Tree Clasifier 0.9514\n"
     ]
    }
   ],
   "source": [
    "#Vergleich\n",
    "\n",
    "print(\"Accuracy Desicion Tree:\", metrics.accuracy_score(y_test, y_pred))\n",
    "print(\"Extra Tree Clasifier\", metrics.accuracy_score(y_test, y_pred3))\n"
   ]
  }
 ],
 "metadata": {
  "kernelspec": {
   "display_name": "Python 3 (ipykernel)",
   "language": "python",
   "name": "python3"
  },
  "language_info": {
   "codemirror_mode": {
    "name": "ipython",
    "version": 3
   },
   "file_extension": ".py",
   "mimetype": "text/x-python",
   "name": "python",
   "nbconvert_exporter": "python",
   "pygments_lexer": "ipython3",
   "version": "3.11.7"
  }
 },
 "nbformat": 4,
 "nbformat_minor": 5
}
