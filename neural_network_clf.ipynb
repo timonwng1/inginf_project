{
 "cells": [
  {
   "cell_type": "code",
   "execution_count": 9,
   "id": "510e5aa1-6b6e-408b-bded-876ef8ca4c0e",
   "metadata": {},
   "outputs": [],
   "source": [
    "# Load libraries\n",
    "from sklearn.neural_network import MLPClassifier\n",
    "from sklearn import metrics"
   ]
  },
  {
   "cell_type": "code",
   "execution_count": 10,
   "id": "ddf68be6-2d7a-4fda-99d3-986b3c2a927f",
   "metadata": {},
   "outputs": [],
   "source": [
    "from keras.datasets import mnist"
   ]
  },
  {
   "cell_type": "code",
   "execution_count": 11,
   "id": "41fd7318-af34-4434-ac94-a1da4480ae22",
   "metadata": {},
   "outputs": [],
   "source": [
    "(X_train, y_train), (X_test, y_test) = mnist.load_data()"
   ]
  },
  {
   "cell_type": "code",
   "execution_count": 12,
   "id": "f76715f7-042a-4e61-8842-043fd415e63b",
   "metadata": {},
   "outputs": [
    {
     "name": "stdout",
     "output_type": "stream",
     "text": [
      "X_train: (60000, 28, 28)\n",
      "Y_train: (60000,)\n",
      "X_test:  (10000, 28, 28)\n",
      "Y_test:  (10000,)\n"
     ]
    }
   ],
   "source": [
    "#Anzeigen, wie die Daten vorliegen (Trainings- und Testdaten mit Pixelnanzahl)\n",
    "print('X_train: ' + str(X_train.shape))\n",
    "print('Y_train: ' + str(y_train.shape))\n",
    "print('X_test:  '  + str(X_test.shape))\n",
    "print('Y_test:  '  + str(y_test.shape))"
   ]
  },
  {
   "cell_type": "code",
   "execution_count": 13,
   "id": "be587924-593f-4921-976f-12586bce4087",
   "metadata": {},
   "outputs": [],
   "source": [
    "# Bilder in Vektoren umformen\n",
    "X_train = X_train.reshape(X_train.shape[0], X_train.shape[1]*X_train.shape[2]) \n",
    "X_test = X_test.reshape(X_test.shape[0], X_test.shape[1]*X_test.shape[2]) "
   ]
  },
  {
   "cell_type": "code",
   "execution_count": 14,
   "id": "537521c2-b03b-40b0-a450-ec3ae6b29675",
   "metadata": {},
   "outputs": [
    {
     "name": "stdout",
     "output_type": "stream",
     "text": [
      "Number of training examples : 60000 and each image is of shape (784)\n",
      "Number of training examples : 10000 and each image is of shape (784)\n"
     ]
    }
   ],
   "source": [
    "# Überprüfung ob Umformung funktioniert hat\n",
    "print(\"Number of training examples :\", X_train.shape[0], \"and each image is of shape (%d)\"%(X_train.shape[1]))\n",
    "print(\"Number of training examples :\", X_test.shape[0], \"and each image is of shape (%d)\"%(X_test.shape[1]))"
   ]
  },
  {
   "cell_type": "code",
   "execution_count": 15,
   "id": "77eebd6d-08e9-46ed-b12a-5a01f4fdfa5f",
   "metadata": {},
   "outputs": [],
   "source": [
    "#Normalisierung der Daten\n",
    "X_train = X_train/255\n",
    "X_test = X_test/255"
   ]
  },
  {
   "cell_type": "code",
   "execution_count": 72,
   "id": "e7660840-3d26-43e9-9857-4ff85e1a26f0",
   "metadata": {},
   "outputs": [],
   "source": [
    "lbfgs = MLPClassifier(solver='lbfgs', alpha=1, hidden_layer_sizes=(784, 10), random_state=1, max_iter=1000)\n",
    "#adam = MLPClassifier(solver='adam', alpha=1, hidden_layer_sizes=(50, 50, 20), random_state=1, max_iter=200)\n",
    "#sgd = MLPClassifier(solver='sgd', alpha=1, hidden_layer_sizes=(50, 50, 20), random_state=1, max_iter=200)"
   ]
  },
  {
   "cell_type": "code",
   "execution_count": 73,
   "id": "a354334a-a9b6-4a81-a811-baabbb9af78b",
   "metadata": {},
   "outputs": [],
   "source": [
    "lbfgs = lbfgs.fit(X_train,y_train)\n",
    "#adam = adam.fit(X_train,y_train)\n",
    "#sgd = sgd.fit(X_train,y_train)"
   ]
  },
  {
   "cell_type": "code",
   "execution_count": 74,
   "id": "f3843616-a21d-4574-9d11-29fd449fa312",
   "metadata": {},
   "outputs": [],
   "source": [
    "y_pred1 = lbfgs.predict(X_test)\n",
    "#y_pred2 = adam.predict(X_test)\n",
    "#y_pred3 = sgd.predict(X_test)"
   ]
  },
  {
   "cell_type": "code",
   "execution_count": 75,
   "id": "459dd046-1fcc-49de-be71-3264315f87d6",
   "metadata": {},
   "outputs": [
    {
     "name": "stdout",
     "output_type": "stream",
     "text": [
      "Accuracy lbfgs: 0.9792\n"
     ]
    }
   ],
   "source": [
    "print(\"Accuracy lbfgs:\", metrics.accuracy_score(y_test, y_pred1))\n",
    "#print(\"Accuracy adam:\", metrics.accuracy_score(y_test, y_pred2))\n",
    "#print(\"Accuracy sgd:\", metrics.accuracy_score(y_test, y_pred3))"
   ]
  },
  {
   "cell_type": "code",
   "execution_count": 76,
   "id": "b29c938d-2629-4273-92c4-6852f9720d3d",
   "metadata": {},
   "outputs": [],
   "source": [
    "#print(\"Accuracy:\",metrics.accuracy_score(y_test, y_pred))"
   ]
  },
  {
   "cell_type": "code",
   "execution_count": 79,
   "id": "fa68631d-fde7-4cba-8517-54ddb0eea49a",
   "metadata": {},
   "outputs": [
    {
     "data": {
      "text/plain": [
       "array([[ 968,    0,    0,    1,    1,    1,    5,    1,    3,    0],\n",
       "       [   0, 1127,    1,    2,    0,    0,    1,    1,    3,    0],\n",
       "       [   2,    0, 1009,    2,    5,    0,    2,    5,    6,    1],\n",
       "       [   0,    0,    5,  987,    0,    5,    0,    6,    5,    2],\n",
       "       [   1,    0,    5,    0,  963,    0,    2,    2,    0,    9],\n",
       "       [   2,    0,    0,   10,    1,  869,    5,    1,    3,    1],\n",
       "       [   4,    2,    0,    1,    7,    4,  936,    0,    4,    0],\n",
       "       [   1,    1,    9,    3,    1,    0,    0, 1007,    2,    4],\n",
       "       [   2,    1,    2,    9,    1,    5,    2,    2,  946,    4],\n",
       "       [   3,    3,    0,    3,   14,    1,    0,    2,    3,  980]])"
      ]
     },
     "execution_count": 79,
     "metadata": {},
     "output_type": "execute_result"
    }
   ],
   "source": [
    "from sklearn.metrics import confusion_matrix\n",
    "\n",
    "confusion_matrix(y_test, y_pred1)"
   ]
  },
  {
   "cell_type": "code",
   "execution_count": 78,
   "id": "421bf6b4-255a-417b-bed6-d19d1907b223",
   "metadata": {},
   "outputs": [
    {
     "data": {
      "text/plain": [
       "array([[ 969,    0,    0,    0,    1,    0,    5,    1,    4,    0],\n",
       "       [   0, 1123,    2,    2,    0,    0,    3,    2,    3,    0],\n",
       "       [   8,    0, 1003,    5,    3,    0,    3,    8,    2,    0],\n",
       "       [   0,    0,    7,  990,    0,    0,    0,    7,    3,    3],\n",
       "       [   2,    0,    5,    0,  946,    0,    4,    1,    2,   22],\n",
       "       [   4,    1,    0,   13,    0,  848,   11,    1,    6,    8],\n",
       "       [   4,    3,    1,    0,   13,    3,  929,    0,    5,    0],\n",
       "       [   2,    7,   14,    7,    2,    0,    0,  983,    0,   13],\n",
       "       [   5,    0,    6,   13,    4,    4,    5,    2,  927,    8],\n",
       "       [   5,    4,    1,    7,    8,    2,    0,    4,    1,  977]])"
      ]
     },
     "execution_count": 78,
     "metadata": {},
     "output_type": "execute_result"
    }
   ],
   "source": [
    "confusion_matrix(y_test, y_pred2)"
   ]
  },
  {
   "cell_type": "code",
   "execution_count": 43,
   "id": "a35002d5-b3ea-441a-80fc-75e6c790d057",
   "metadata": {},
   "outputs": [
    {
     "data": {
      "text/plain": [
       "array([[ 960,    0,    4,    0,    1,    7,    3,    4,    1,    0],\n",
       "       [   0, 1111,    2,    5,    0,    0,    3,    2,   12,    0],\n",
       "       [  14,    8,  938,   10,    5,    0,   18,   19,   18,    2],\n",
       "       [   2,    1,   25,  923,    0,   31,    0,   14,    9,    5],\n",
       "       [   4,    4,    3,    0,  902,    0,   15,    3,   10,   41],\n",
       "       [  13,    1,    5,   49,    5,  785,    7,    0,   16,   11],\n",
       "       [  10,    4,    5,    0,   10,   10,  912,    2,    5,    0],\n",
       "       [   3,   11,   17,   10,    4,    0,    0,  962,    0,   21],\n",
       "       [   6,    8,   12,    8,   12,   13,    8,    6,  891,   10],\n",
       "       [   8,    8,    1,    8,   29,    7,    0,   12,    6,  930]])"
      ]
     },
     "execution_count": 43,
     "metadata": {},
     "output_type": "execute_result"
    }
   ],
   "source": [
    "confusion_matrix(y_test, y_pred3)"
   ]
  },
  {
   "cell_type": "code",
   "execution_count": null,
   "id": "e041341e-7033-43f4-8763-952711e92fa0",
   "metadata": {},
   "outputs": [],
   "source": []
  }
 ],
 "metadata": {
  "kernelspec": {
   "display_name": "Python 3 (ipykernel)",
   "language": "python",
   "name": "python3"
  },
  "language_info": {
   "codemirror_mode": {
    "name": "ipython",
    "version": 3
   },
   "file_extension": ".py",
   "mimetype": "text/x-python",
   "name": "python",
   "nbconvert_exporter": "python",
   "pygments_lexer": "ipython3",
   "version": "3.11.7"
  }
 },
 "nbformat": 4,
 "nbformat_minor": 5
}
