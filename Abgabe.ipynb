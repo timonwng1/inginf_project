{
 "cells": [
  {
   "cell_type": "markdown",
   "id": "3430746b-92ad-4337-97cf-9fed32f8b073",
   "metadata": {},
   "source": [
    "# Abgabe Ingeneursinformatik Prokjekt"
   ]
  },
  {
   "cell_type": "markdown",
   "id": "b5ae0f22-88d9-4af8-bd34-6c416e059281",
   "metadata": {},
   "source": [
    "## Import Libaries"
   ]
  },
  {
   "cell_type": "code",
   "execution_count": 35,
   "id": "9b42e16a-4707-479d-be33-3d75247ca116",
   "metadata": {},
   "outputs": [],
   "source": [
    "# Load standard libraries\n",
    "import pandas as pd\n",
    "import matplotlib.pyplot as plt\n",
    "#from sklearn.model_selection import train_test_split \n",
    "from sklearn import metrics \n",
    "\n",
    "#Libraries of machine learning models\n",
    "from sklearn import tree\n",
    "from sklearn.tree import DecisionTreeClassifier, plot_tree\n",
    "from sklearn.ensemble import RandomForestClassifier\n",
    "from sklearn.ensemble import ExtraTreesClassifier\n",
    "from sklearn.neighbors import KNeighborsClassifier\n",
    "from sklearn.ensemble import AdaBoostClassifier\n",
    "from sklearn.naive_bayes import GaussianNB\n",
    "from sklearn.neural_network import MLPClassifier\n",
    "from sklearn.metrics import confusion_matrix\n",
    "\n",
    "# Libraries for visualization of the desicion tree\n",
    "from sklearn.tree import export_graphviz\n",
    "from six import StringIO  \n",
    "from IPython.display import Image  \n",
    "import pydotplus\n",
    "\n",
    "# Libraries for own image import\n",
    "import numpy as np\n",
    "import cv2\n",
    "from PIL import Image\n",
    "import os\n"
   ]
  },
  {
   "cell_type": "markdown",
   "id": "2a8b102a-7291-45ed-81db-bf041f920696",
   "metadata": {},
   "source": [
    "## Import and prepare MNIST-Dataset"
   ]
  },
  {
   "cell_type": "code",
   "execution_count": 6,
   "id": "f214b81b-11f7-41ce-bed7-8c0b2262a50b",
   "metadata": {},
   "outputs": [],
   "source": [
    "from keras.datasets import mnist"
   ]
  },
  {
   "cell_type": "code",
   "execution_count": 7,
   "id": "61f08aab-b2a0-4be9-bdf9-94c8bf0e0460",
   "metadata": {},
   "outputs": [],
   "source": [
    "(X_train, y_train), (X_test, y_test) = mnist.load_data()"
   ]
  },
  {
   "cell_type": "markdown",
   "id": "93fe00a4-a576-41b6-95af-91daea541e19",
   "metadata": {},
   "source": [
    "The next step shows how the image in the MNIST-Dataset looks like."
   ]
  },
  {
   "cell_type": "code",
   "execution_count": 8,
   "id": "7a006d28-646e-4353-8ca8-6c1096d13cd2",
   "metadata": {},
   "outputs": [
    {
     "data": {
      "text/plain": [
       "<matplotlib.image.AxesImage at 0x7fc36c5da910>"
      ]
     },
     "execution_count": 8,
     "metadata": {},
     "output_type": "execute_result"
    },
    {
     "data": {
      "image/png": "[encoded data removed]",
      "text/plain": [
       "<Figure size 640x480 with 1 Axes>"
      ]
     },
     "metadata": {},
     "output_type": "display_data"
    }
   ],
   "source": [
    "plt.imshow(X_train[0], cmap='gray')"
   ]
  },
  {
   "cell_type": "code",
   "execution_count": 9,
   "id": "e6796ffb-7da8-40e8-8392-c2a1e57a4380",
   "metadata": {},
   "outputs": [
    {
     "name": "stdout",
     "output_type": "stream",
     "text": [
      "X_train: (60000, 28, 28)\n",
      "Y_train: (60000,)\n",
      "X_test:  (10000, 28, 28)\n",
      "Y_test:  (10000,)\n"
     ]
    }
   ],
   "source": [
    "#Anzeigen, wie die Daten vorliegen (Trainings- und Testdaten mit Pixelnanzahl)\n",
    "print('X_train: ' + str(X_train.shape))\n",
    "print('Y_train: ' + str(y_train.shape))\n",
    "print('X_test:  '  + str(X_test.shape))\n",
    "print('Y_test:  '  + str(y_test.shape))"
   ]
  },
  {
   "cell_type": "code",
   "execution_count": 10,
   "id": "9fd6ffaf-c3e0-466b-bfe1-79426d9ee45d",
   "metadata": {},
   "outputs": [],
   "source": [
    "# Bilder in Vektoren umformen\n",
    "X_train = X_train.reshape(X_train.shape[0], X_train.shape[1]*X_train.shape[2]) \n",
    "X_test = X_test.reshape(X_test.shape[0], X_test.shape[1]*X_test.shape[2]) "
   ]
  },
  {
   "cell_type": "code",
   "execution_count": 11,
   "id": "59f28f69-dce8-4db1-a142-db1bd1ef2be2",
   "metadata": {},
   "outputs": [
    {
     "name": "stdout",
     "output_type": "stream",
     "text": [
      "Number of training examples : 60000 and each image is of shape (784)\n",
      "Number of training examples : 10000 and each image is of shape (784)\n"
     ]
    }
   ],
   "source": [
    "# Überprüfung ob Umformung funktioniert hat\n",
    "print(\"Number of training examples :\", X_train.shape[0], \"and each image is of shape (%d)\"%(X_train.shape[1]))\n",
    "print(\"Number of training examples :\", X_test.shape[0], \"and each image is of shape (%d)\"%(X_test.shape[1]))"
   ]
  },
  {
   "cell_type": "code",
   "execution_count": 12,
   "id": "ddd1bfda-3926-4877-bcfe-a26d2cc07baa",
   "metadata": {},
   "outputs": [],
   "source": [
    "#Normalisierung der Daten\n",
    "X_train = X_train/255\n",
    "X_test = X_test/255"
   ]
  },
  {
   "cell_type": "markdown",
   "id": "7b65bc7c-934d-4dad-9db3-7d0f69a0045c",
   "metadata": {},
   "source": [
    "## Machine Learning Modelle"
   ]
  },
  {
   "cell_type": "markdown",
   "id": "2c85d5a7-3ffe-4ff2-9b72-aa9d8609a2f3",
   "metadata": {},
   "source": [
    "### Desicion Tree"
   ]
  },
  {
   "cell_type": "code",
   "execution_count": 13,
   "id": "a1cc2690-3ca7-4176-8004-0017a973e183",
   "metadata": {},
   "outputs": [],
   "source": [
    "dTree = DecisionTreeClassifier(criterion=\"entropy\", max_depth=5).fit(X_train,y_train)"
   ]
  },
  {
   "cell_type": "code",
   "execution_count": 14,
   "id": "627a1bfe-f932-4dc0-8075-63c5b846cad8",
   "metadata": {},
   "outputs": [],
   "source": [
    "dTree_prediction = dTree.predict(X_test)"
   ]
  },
  {
   "cell_type": "markdown",
   "id": "39417c4e-be98-4a9f-89da-b568b291446a",
   "metadata": {
    "jp-MarkdownHeadingCollapsed": true
   },
   "source": [
    "#### Visualisation of the descision tree"
   ]
  },
  {
   "cell_type": "code",
   "execution_count": null,
   "id": "08c7dd87-7b43-4b67-90f1-0e7076ab9567",
   "metadata": {},
   "outputs": [],
   "source": [
    "def create_graph(decision_tree):\n",
    "    dot_data = StringIO()\n",
    "    export_graphviz(decision_tree, out_file=dot_data,  \n",
    "                    filled=True, rounded=True,\n",
    "                    special_characters=True,feature_names = feature_cols,class_names=['0','1','2','3','4','5','6','7','8','9'])\n",
    "    graph = pydotplus.graph_from_dot_data(dot_data.getvalue())  \n",
    "    graph.write_png('dTree.png')\n",
    "    return graph"
   ]
  },
  {
   "cell_type": "code",
   "execution_count": null,
   "id": "8f250df8-7fc1-495f-a666-4d881b287c43",
   "metadata": {},
   "outputs": [],
   "source": [
    "fig = plt.figure(figsize=(25,20))\n",
    "fig.plot_tree(dTree)"
   ]
  },
  {
   "cell_type": "code",
   "execution_count": null,
   "id": "26507fe5-12e8-416b-8abb-24736a41c67f",
   "metadata": {},
   "outputs": [],
   "source": [
    "graph = create_graph(dTree)\n",
    "Image(graph.create_png())"
   ]
  },
  {
   "cell_type": "markdown",
   "id": "6c0cfb3b-642f-4d1d-8336-2d6087c265aa",
   "metadata": {},
   "source": [
    "### Adaptive Boosting\n"
   ]
  },
  {
   "cell_type": "code",
   "execution_count": 15,
   "id": "6970cc2f-4a43-40b0-aa8a-dba82521879b",
   "metadata": {},
   "outputs": [],
   "source": [
    "adaBoost = AdaBoostClassifier(n_estimators=5, algorithm=\"SAMME\").fit(X_train,y_train)"
   ]
  },
  {
   "cell_type": "code",
   "execution_count": 16,
   "id": "08515a59-a70e-4ad8-87f4-11810ac65b0b",
   "metadata": {},
   "outputs": [],
   "source": [
    "adaBoost_predict = adaBoost.predict(X_test)"
   ]
  },
  {
   "cell_type": "markdown",
   "id": "69de2c7b-18b2-4f04-a032-8e3937d8b277",
   "metadata": {},
   "source": [
    "### k-nearest-neighbour"
   ]
  },
  {
   "cell_type": "code",
   "execution_count": 17,
   "id": "d535db0f-adec-4cc0-9e36-563a5574c128",
   "metadata": {},
   "outputs": [],
   "source": [
    "kNeigh = KNeighborsClassifier(n_neighbors=3).fit(X_train,y_train)"
   ]
  },
  {
   "cell_type": "code",
   "execution_count": 18,
   "id": "c6fc2bae-e8a1-49fe-acd0-a8157949c6ca",
   "metadata": {},
   "outputs": [],
   "source": [
    "kNeigh_predict = kNeigh.predict(X_test)"
   ]
  },
  {
   "cell_type": "markdown",
   "id": "2980f7fa-982e-46eb-9918-18e562ca0f8c",
   "metadata": {},
   "source": [
    "### Naive Bayers"
   ]
  },
  {
   "cell_type": "code",
   "execution_count": 19,
   "id": "d7677f02-0c1a-4cde-b5bc-2649b8a75035",
   "metadata": {},
   "outputs": [],
   "source": [
    "gnb = GaussianNB().fit(X_train,y_train)"
   ]
  },
  {
   "cell_type": "code",
   "execution_count": 20,
   "id": "4ff3a30d-f473-4ac7-8a48-81c3712b3d4f",
   "metadata": {},
   "outputs": [],
   "source": [
    "gnb_predict = gnb.predict(X_test)"
   ]
  },
  {
   "cell_type": "markdown",
   "id": "410f7402-42f9-4070-90f2-d38aff4a80d9",
   "metadata": {},
   "source": [
    "### Random Forest"
   ]
  },
  {
   "cell_type": "code",
   "execution_count": 21,
   "id": "030df756-51bc-4b44-9e2a-8e9240c80a21",
   "metadata": {},
   "outputs": [],
   "source": [
    "randForest = RandomForestClassifier(n_estimators=5).fit(X_train,y_train)"
   ]
  },
  {
   "cell_type": "code",
   "execution_count": 22,
   "id": "2d3a3567-ac8e-44ec-bbb8-f242693eeecb",
   "metadata": {},
   "outputs": [],
   "source": [
    "randForest_predict = randForest.predict(X_test)"
   ]
  },
  {
   "cell_type": "markdown",
   "id": "16c1948d-1d1c-4166-93a1-a704c4731af9",
   "metadata": {},
   "source": [
    "### Neural Network"
   ]
  },
  {
   "cell_type": "markdown",
   "id": "b0b93a24-2351-4cc0-85ba-8ff71ec1b90f",
   "metadata": {},
   "source": [
    "#### Limited-memory BFGS"
   ]
  },
  {
   "cell_type": "code",
   "execution_count": 65,
   "id": "6f16c396-76f4-43dc-bc09-834e5d800305",
   "metadata": {},
   "outputs": [
    {
     "name": "stderr",
     "output_type": "stream",
     "text": [
      "/opt/conda/lib/python3.11/site-packages/sklearn/neural_network/_multilayer_perceptron.py:546: ConvergenceWarning: lbfgs failed to converge (status=1):\n",
      "STOP: TOTAL NO. of ITERATIONS REACHED LIMIT.\n",
      "\n",
      "Increase the number of iterations (max_iter) or scale the data as shown in:\n",
      "    https://scikit-learn.org/stable/modules/preprocessing.html\n",
      "  self.n_iter_ = _check_optimize_result(\"lbfgs\", opt_res, self.max_iter)\n"
     ]
    }
   ],
   "source": [
    "nn_lbfgs = MLPClassifier(solver='lbfgs', alpha=1, hidden_layer_sizes=(784, 10), random_state=1, max_iter=200).fit(X_train,y_train)"
   ]
  },
  {
   "cell_type": "code",
   "execution_count": 71,
   "id": "a289029f-e46b-4e74-92f3-88c8be844916",
   "metadata": {},
   "outputs": [],
   "source": [
    "nn_lbfgs_preditct = nn_lbfgs.predict(X_test)"
   ]
  },
  {
   "cell_type": "markdown",
   "id": "feda7097-5bf8-4b0d-9aa0-88dac4ee4f51",
   "metadata": {},
   "source": [
    "#### Adam: A Method for Stochastic Optimization"
   ]
  },
  {
   "cell_type": "code",
   "execution_count": 26,
   "id": "9f8da819-fe79-4a21-95ce-c7aafb9e707e",
   "metadata": {},
   "outputs": [
    {
     "name": "stderr",
     "output_type": "stream",
     "text": [
      "/opt/conda/lib/python3.11/site-packages/sklearn/neural_network/_multilayer_perceptron.py:691: ConvergenceWarning: Stochastic Optimizer: Maximum iterations (5) reached and the optimization hasn't converged yet.\n",
      "  warnings.warn(\n"
     ]
    }
   ],
   "source": [
    "nn_adam = MLPClassifier(solver='adam', alpha=1, hidden_layer_sizes=(784, 10), random_state=1, max_iter=5).fit(X_train,y_train)"
   ]
  },
  {
   "cell_type": "code",
   "execution_count": 27,
   "id": "cd3ca014-41ed-479b-b3ed-a8136f35c462",
   "metadata": {},
   "outputs": [],
   "source": [
    "nn_adam_preditct = nn_adam.predict(X_test)"
   ]
  },
  {
   "cell_type": "markdown",
   "id": "7479c7a8-af71-417c-bb42-c2c5a6b5b4c7",
   "metadata": {},
   "source": [
    "#### Stochastic gradient descent"
   ]
  },
  {
   "cell_type": "code",
   "execution_count": 28,
   "id": "d38bf6dd-2a0d-4dce-bf70-2b6e95dca581",
   "metadata": {},
   "outputs": [
    {
     "name": "stderr",
     "output_type": "stream",
     "text": [
      "/opt/conda/lib/python3.11/site-packages/sklearn/neural_network/_multilayer_perceptron.py:691: ConvergenceWarning: Stochastic Optimizer: Maximum iterations (5) reached and the optimization hasn't converged yet.\n",
      "  warnings.warn(\n"
     ]
    }
   ],
   "source": [
    "nn_sgd = MLPClassifier(solver='sgd', alpha=1, hidden_layer_sizes=(784, 10), random_state=1, max_iter=5).fit(X_train,y_train)"
   ]
  },
  {
   "cell_type": "code",
   "execution_count": 29,
   "id": "c19092b8-7e46-4e9e-8ef0-34ff1f27b225",
   "metadata": {},
   "outputs": [],
   "source": [
    "nn_sgd_preditct = nn_sgd.predict(X_test)"
   ]
  },
  {
   "cell_type": "markdown",
   "id": "1ee758af-a352-4001-a586-38182211a041",
   "metadata": {},
   "source": [
    "## Eigene Bilder eingeben"
   ]
  },
  {
   "cell_type": "code",
   "execution_count": 66,
   "id": "5c3d1d89-06da-4eab-9dcd-a52fe6a60a67",
   "metadata": {},
   "outputs": [
    {
     "data": {
      "image/png": "[encoded data removed]",
      "text/plain": [
       "<Figure size 640x480 with 1 Axes>"
      ]
     },
     "metadata": {},
     "output_type": "display_data"
    },
    {
     "name": "stdout",
     "output_type": "stream",
     "text": [
      "Das Bild wurde erfolgreich im Ordner output_folder/ gespeichert.\n"
     ]
    }
   ],
   "source": [
    "def resize_to_28x28(img):\n",
    "    # Bestimmen der Höhe und Breite des Bildes\n",
    "    img_h, img_w = img.shape\n",
    "    dim_size_max = max(img.shape)\n",
    "\n",
    "    # Skalieren des Bildes auf 26 Pixel, wobei das Seitenverhältnis beibehalten wird\n",
    "    if dim_size_max == img_w:\n",
    "        im_h = (26 * img_h) // img_w\n",
    "        if im_h <= 0 or img_w <= 0:\n",
    "            print(\"Invalid Image Dimension: \", im_h, img_w, img_h)\n",
    "        tmp_img = cv2.resize(img, (26, im_h), 0, 0, cv2.INTER_NEAREST)\n",
    "    else:\n",
    "        im_w = (26 * img_w) // img_h\n",
    "        if im_w <= 0 or img_h <= 0:\n",
    "            print(\"Invalid Image Dimension: \", im_w, img_w, img_h)\n",
    "        tmp_img = cv2.resize(img, (im_w, 26), 0, 0, cv2.INTER_NEAREST)\n",
    "\n",
    "  # Erstellen eines quadratischen Bildes mit 28x28 Pixeln und Einfügen des skalierten Bildes\n",
    "    out_img = np.full((28, 28), 0, dtype=np.ubyte)  # Rand weiß initialisieren\n",
    "\n",
    "    # Berechnen der Position, um das skalierte Bild in der Mitte des quadratischen Bildes zu platzieren\n",
    "    nb_h, nb_w = out_img.shape\n",
    "    na_h, na_w = tmp_img.shape\n",
    "    x_min = (nb_h - na_h) // 2\n",
    "    x_max = x_min + na_h\n",
    "    y_min = (nb_w - na_w) // 2\n",
    "    y_max = y_min + na_w\n",
    "\n",
    "    # Einfügen des skalierten Bildes in das quadratische Bild\n",
    "    out_img[x_min:x_max, y_min:y_max] = 255 - tmp_img\n",
    "\n",
    "    return out_img\n",
    "    return out_img\n",
    "\n",
    "# Pfad zu deinem Bild\n",
    "image_path = \"8.jpg\"\n",
    "\n",
    "\n",
    "# Bild laden und in Graustufen umwandeln\n",
    "img = Image.open(image_path).convert('L')\n",
    "img = np.array(img)\n",
    "\n",
    "# Bild auf 28x28 Pixel skalieren\n",
    "mnist_formatted_img = resize_to_28x28(img)\n",
    "\n",
    "# Ausgabe des Bildes überprüfen\n",
    "import matplotlib.pyplot as plt\n",
    "\n",
    "plt.imshow(mnist_formatted_img, cmap='gray')\n",
    "plt.show()\n",
    "\n",
    "# Pfad zum Ordner, in dem das Bild gespeichert werden soll\n",
    "output_folder = 'output_folder/'\n",
    "\n",
    "# Erstellen des Ordners, falls er nicht existiert\n",
    "os.makedirs(output_folder, exist_ok=True)\n",
    "\n",
    "# Bild als Datei im Ordner speichern\n",
    "output_path = os.path.join(output_folder, 'mnist_formatted_image.png')\n",
    "Image.fromarray(mnist_formatted_img).save(output_path)\n",
    "\n",
    "print(f\"Das Bild wurde erfolgreich im Ordner {output_folder} gespeichert.\")"
   ]
  },
  {
   "cell_type": "code",
   "execution_count": 72,
   "id": "b18c4dff-16e9-46fb-b51b-d3aa8eda7ab9",
   "metadata": {},
   "outputs": [
    {
     "name": "stdout",
     "output_type": "stream",
     "text": [
      "Im´nput Image in np.array format: (28, 28)\n",
      "Image reshaped in 1, 28, 28: (1, 28, 28)\n",
      "Image reshaped as vector : 1 and each image is of shape (784)\n"
     ]
    }
   ],
   "source": [
    "image_path = 'output_folder/mnist_formatted_image.png'\n",
    "image = Image.open(image_path)\n",
    "image_array = np.array(image)\n",
    "\n",
    "print('Im´nput Image in np.array format: ' + str(image_array.shape))\n",
    "own_image = image_array.reshape(1, 28, 28)\n",
    "\n",
    "print('Image reshaped in 1, 28, 28: ' + str(own_image.shape))\n",
    "own_image = own_image.reshape(own_image.shape[0], own_image.shape[1]*own_image.shape[2]) \n",
    "own_image = own_image.flatten().reshape(1, -1)\n",
    "\n",
    "own_image = own_image / 255.0\n",
    "#print(own_image)\n",
    "\n",
    "print(\"Image reshaped as vector :\", own_image.shape[0], \"and each image is of shape (%d)\"%(own_image.shape[1]))\n",
    "kNeigh_predict_image = kNeigh.predict(own_image)\n",
    "dTree_predict_image = dTree.predict(own_image)\n",
    "nn_adam_preditct_image = nn_adam.predict(own_image)\n",
    "randForest_predict_image = randForest.predict(own_image)\n",
    "nn_lbfgs_preditct_image = nn_lbfgs.predict(own_image)\n",
    "nn_sgd_preditct_image = nn_sgd.predict(own_image)"
   ]
  },
  {
   "cell_type": "code",
   "execution_count": 73,
   "id": "64023648-2320-48d4-bba9-0cd09de9fad6",
   "metadata": {},
   "outputs": [
    {
     "name": "stdout",
     "output_type": "stream",
     "text": [
      "kNN: 8\n",
      "RandFor: 5\n",
      "dTree: 5 \n",
      "\n",
      "NN Adam: 8\n",
      "NN lbgfs: 8\n",
      "NN sgd: 8\n"
     ]
    }
   ],
   "source": [
    "print(\"kNN:\", kNeigh_predict_image[0])\n",
    "print(\"RandFor:\", randForest_predict_image[0])\n",
    "print(\"dTree:\", dTree_predict_image[0],\"\\n\")\n",
    "\n",
    "print(\"NN Adam:\", nn_adam_preditct_image[0])\n",
    "print(\"NN lbgfs:\", nn_lbfgs_preditct_image[0])\n",
    "print(\"NN sgd:\", nn_sgd_preditct_image[0])"
   ]
  },
  {
   "cell_type": "markdown",
   "id": "0c494c5c-5ef3-4b4a-af8a-c44e6406943b",
   "metadata": {},
   "source": [
    "## Auswertung der Ergebnisse\n"
   ]
  },
  {
   "cell_type": "markdown",
   "id": "5d4da616-96d7-4751-9199-74786e858b7d",
   "metadata": {},
   "source": [
    "Berechnung des accuracy-score aller Modelle"
   ]
  },
  {
   "cell_type": "code",
   "execution_count": 74,
   "id": "eb6f5e65-f802-491c-903e-91699bc9c105",
   "metadata": {},
   "outputs": [],
   "source": [
    "acc_dTree = metrics.accuracy_score(y_test, dTree_prediction)\n",
    "acc_adaBoost = metrics.accuracy_score(y_test, adaBoost_predict)\n",
    "acc_kNeigh = metrics.accuracy_score(y_test, kNeigh_predict)\n",
    "acc_gnb = metrics.accuracy_score(y_test, gnb_predict)\n",
    "acc_randForest = metrics.accuracy_score(y_test, randForest_predict)\n",
    "\n",
    "acc_nn_lbfgs = metrics.accuracy_score(y_test, nn_lbfgs_preditct)\n",
    "acc_nn_adam = metrics.accuracy_score(y_test, nn_adam_preditct)\n",
    "acc_nn_sgd = metrics.accuracy_score(y_test, nn_sgd_preditct)\n"
   ]
  },
  {
   "cell_type": "code",
   "execution_count": 75,
   "id": "c28dd7ed-3db0-4540-8b43-65ef6e8b87c9",
   "metadata": {},
   "outputs": [
    {
     "name": "stdout",
     "output_type": "stream",
     "text": [
      "Accuracy Desision Tree: 69.95 %\n",
      "Accuracy Adaptive Boosting: 25.319999999999997 %\n",
      "Accuracy k-nearest-kneibour: 97.05 %\n",
      "Accuracy Naive Bayers: 55.58 %\n",
      "Accuracy Random Forest: 92.57 %\n",
      "Accuracy Neural Network with solver lbfgs: 97.87 %\n",
      "Accuracy Neural Network with solver adam: 95.65 %\n",
      "Accuracy Neural Network with solver sgd: 89.46 %\n"
     ]
    }
   ],
   "source": [
    "print(\"Accuracy Desision Tree:\", acc_dTree*100, \"%\")\n",
    "\n",
    "print(\"Accuracy Adaptive Boosting:\", acc_adaBoost*100, \"%\")\n",
    "print(\"Accuracy k-nearest-kneibour:\", acc_kNeigh*100, \"%\")\n",
    "print(\"Accuracy Naive Bayers:\", acc_gnb*100, \"%\")\n",
    "print(\"Accuracy Random Forest:\", acc_randForest*100, \"%\")\n",
    "\n",
    "print(\"Accuracy Neural Network with solver lbfgs:\", acc_nn_lbfgs*100, \"%\")\n",
    "print(\"Accuracy Neural Network with solver adam:\", acc_nn_adam*100, \"%\")\n",
    "print(\"Accuracy Neural Network with solver sgd:\", acc_nn_sgd*100, \"%\")"
   ]
  },
  {
   "cell_type": "code",
   "execution_count": 44,
   "id": "401acbfa-256d-4469-a3cb-6a8850841dea",
   "metadata": {},
   "outputs": [
    {
     "data": {
      "text/plain": [
       "array([[ 880,    0,    8,   23,    0,   15,   17,    5,   31,    1],\n",
       "       [   0, 1031,   11,    2,    0,   29,    6,   12,   44,    0],\n",
       "       [  22,   79,  683,   19,    5,   34,   43,   82,   56,    9],\n",
       "       [  55,   11,  102,  420,    5,  215,   31,   22,   74,   75],\n",
       "       [  14,    2,   62,    1,  504,   49,   35,   69,   34,  212],\n",
       "       [  77,    5,   39,   57,   21,  538,   81,    9,   51,   14],\n",
       "       [  59,    7,   79,    1,   27,   29,  680,   25,   44,    7],\n",
       "       [  20,    4,   80,    0,   10,   13,    1,  829,   14,   57],\n",
       "       [   1,   30,   48,   11,   15,   25,   57,    4,  732,   51],\n",
       "       [  24,    2,   41,   22,   34,   48,    8,   79,   53,  698]])"
      ]
     },
     "execution_count": 44,
     "metadata": {},
     "output_type": "execute_result"
    }
   ],
   "source": [
    "confusion_matrix(y_test, dTree_prediction)"
   ]
  },
  {
   "cell_type": "code",
   "execution_count": 45,
   "id": "9c533592-6a3c-4610-87f1-87a977cf0f9b",
   "metadata": {},
   "outputs": [
    {
     "data": {
      "text/plain": [
       "array([[ 964,    2,    1,    0,    0,    5,    3,    2,    3,    0],\n",
       "       [   0, 1122,    3,    2,    0,    0,    3,    1,    4,    0],\n",
       "       [   4,    1, 1005,    5,    4,    0,    4,    7,    2,    0],\n",
       "       [   0,    0,    7,  986,    0,    3,    0,   10,    4,    0],\n",
       "       [   1,    1,    4,    0,  951,    0,    7,    1,    2,   15],\n",
       "       [   3,    1,    1,   23,    0,  851,    3,    2,    5,    3],\n",
       "       [   5,    3,    2,    0,    7,    7,  930,    0,    4,    0],\n",
       "       [   1,    8,   15,    2,    2,    0,    0,  996,    0,    4],\n",
       "       [   4,    1,    8,   16,    5,    2,    8,    8,  920,    2],\n",
       "       [   6,    6,    2,   15,   11,    1,    0,    9,    1,  958]])"
      ]
     },
     "execution_count": 45,
     "metadata": {},
     "output_type": "execute_result"
    }
   ],
   "source": [
    "confusion_matrix(y_test, nn_adam_preditct)"
   ]
  },
  {
   "cell_type": "code",
   "execution_count": 43,
   "id": "3c4b94fd-398f-467f-bde6-fbb2f32ea158",
   "metadata": {},
   "outputs": [
    {
     "data": {
      "text/plain": [
       "array([[ 974,    1,    1,    0,    0,    1,    2,    1,    0,    0],\n",
       "       [   0, 1133,    2,    0,    0,    0,    0,    0,    0,    0],\n",
       "       [  10,    9,  996,    2,    0,    0,    0,   13,    2,    0],\n",
       "       [   0,    2,    4,  976,    1,   13,    1,    7,    3,    3],\n",
       "       [   1,    6,    0,    0,  950,    0,    4,    2,    0,   19],\n",
       "       [   6,    1,    0,   11,    2,  859,    5,    1,    3,    4],\n",
       "       [   5,    3,    0,    0,    3,    3,  944,    0,    0,    0],\n",
       "       [   0,   21,    5,    0,    1,    0,    0,  991,    0,   10],\n",
       "       [   8,    2,    4,   16,    8,   11,    3,    4,  914,    4],\n",
       "       [   4,    5,    2,    8,    9,    2,    1,    8,    2,  968]])"
      ]
     },
     "execution_count": 43,
     "metadata": {},
     "output_type": "execute_result"
    }
   ],
   "source": [
    "confusion_matrix(y_test, kNeigh_predict)"
   ]
  },
  {
   "cell_type": "markdown",
   "id": "fbb555da-b135-4f38-af4e-4289adc148ac",
   "metadata": {},
   "source": [
    "## Schleifen für den Vergleich der Modelle für die Präsi"
   ]
  },
  {
   "cell_type": "code",
   "execution_count": null,
   "id": "29c18a4d-168f-414f-8a7b-ec99a3018eb1",
   "metadata": {},
   "outputs": [],
   "source": []
  }
 ],
 "metadata": {
  "kernelspec": {
   "display_name": "Python 3 (ipykernel)",
   "language": "python",
   "name": "python3"
  },
  "language_info": {
   "codemirror_mode": {
    "name": "ipython",
    "version": 3
   },
   "file_extension": ".py",
   "mimetype": "text/x-python",
   "name": "python",
   "nbconvert_exporter": "python",
   "pygments_lexer": "ipython3",
   "version": "3.11.7"
  }
 },
 "nbformat": 4,
 "nbformat_minor": 5
}
